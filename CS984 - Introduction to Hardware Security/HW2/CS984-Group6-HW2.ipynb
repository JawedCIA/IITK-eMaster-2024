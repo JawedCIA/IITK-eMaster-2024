{
 "cells": [
  {
   "cell_type": "markdown",
   "metadata": {},
   "source": [
    "1. Initial Setup\n",
    "Board1_Responses, Board2_Responses, Board3_Responses: These lists are initialized to store the responses from the three FPGA boards."
   ]
  },
  {
   "cell_type": "code",
   "execution_count": 1,
   "metadata": {},
   "outputs": [],
   "source": [
    "# Import necessary libraries\n",
    "import numpy as np\n",
    "import matplotlib.pyplot as plt\n",
    "import seaborn as sns\n",
    "import pandas as pd\n",
    "\n",
    "#Data File\n",
    "Board1_Data_File_Path=\"CRPS/G6/Board1_10K_6.txt\"\n",
    "Board2_Data_File_Path=\"CRPS/G6/Board2_10K_6.txt\"\n",
    "Board3_Data_File_Name_Initial=\"CRPS/G6/Board3_G6/Board3_10K_6_S\"\n",
    "# Initialize lists to store responses for each board\n",
    "G6_Board1_Responses = []\n",
    "G6_Board2_Responses = []\n",
    "G6_Board3_Responses = []"
   ]
  },
  {
   "cell_type": "markdown",
   "metadata": {},
   "source": [
    "2. Function Definitions\n",
    "2.1 Make_Challenge_Response_list(Board_Responses, file_name)\n",
    "Purpose: This function reads response data from a file and appends the extracted response bits to a list.\n",
    "\n",
    "Parameters:\n",
    "\n",
    "Board_Responses: The list to store the response bits.\n",
    "file_name: The path to the file containing Challenge-Response Pairs (CRPs).\n",
    "How it Works:\n",
    "\n",
    "The file is read line by line.\n",
    "Every alternate line (assumed to be a response line) is processed.\n",
    "The response part of the line (after the colon) is extracted and added to the list."
   ]
  },
  {
   "cell_type": "code",
   "execution_count": 2,
   "metadata": {},
   "outputs": [],
   "source": [
    "def G6_Challenge_Response_list(Board_Responses, file_name):\n",
    "    \"\"\"\n",
    "    Reads the response file and extracts the response bits, adding them to the provided list.\n",
    "    \n",
    "    Parameters:\n",
    "    Board_Responses (list): List to store the responses.\n",
    "    file_name (str): Path to the file containing the CRPs.\n",
    "    \"\"\"\n",
    "    with open(file_name, \"r\") as file:\n",
    "        File_data = file.readlines()\n",
    "        for idx, line in enumerate(File_data):\n",
    "            if idx % 2 != 0:  # Only process response lines (assumes every other line is a response)\n",
    "                sliced_string_responses = line.split(\":\")[1].strip()\n",
    "                Board_Responses.append(sliced_string_responses)"
   ]
  },
  {
   "cell_type": "markdown",
   "metadata": {},
   "source": [
    "2.2 calculate_uniformity(Board)\n",
    "Purpose: This function calculates the uniformity of a PUF (Physical Unclonable Function) based on its response bits.\n",
    "\n",
    "Parameters:\n",
    "\n",
    "Board: A list of response bits from a specific board.\n",
    "How it Works:\n",
    "\n",
    "The function iterates over all the bits in the board's responses, counting the number of 1 bits.\n",
    "Uniformity is calculated as the percentage of 1 bits out of the total number of bits.\n",
    "The result is rounded to two decimal places."
   ]
  },
  {
   "cell_type": "code",
   "execution_count": 3,
   "metadata": {},
   "outputs": [],
   "source": [
    "def G6_Calculate_Uniformity(Board):\n",
    "    \"\"\"\n",
    "    Calculates the uniformity of a PUF based on the response bits.\n",
    "\n",
    "    Parameters:\n",
    "    Board (list): List of response bits for a board.\n",
    "\n",
    "    Returns:\n",
    "    float: The uniformity percentage.\n",
    "    \"\"\"\n",
    "   \n",
    "    sum_responses = sum(int(bit) for row in Board for bit in row)\n",
    "    count_responses = len(Board) * len(Board[0])\n",
    "    uniformity = (sum_responses / count_responses) * 100\n",
    "    return round(uniformity, 2)\n"
   ]
  },
  {
   "cell_type": "markdown",
   "metadata": {},
   "source": [
    "2.3 calculate_uniqueness(Board_x, Board_y)\n",
    "Purpose: This function calculates the uniqueness between the responses of two different FPGA boards.\n",
    "\n",
    "Parameters:\n",
    "\n",
    "Board_x: Response bits of Board X.\n",
    "Board_y: Response bits of Board Y.\n",
    "How it Works:\n",
    "\n",
    "The function calculates the Hamming distance between the two sets of responses. The Hamming distance is the number of positions at which the corresponding bits are different.\n",
    "Uniqueness is computed as the percentage of differing bits.\n",
    "The result is rounded to two decimal places."
   ]
  },
  {
   "cell_type": "code",
   "execution_count": 4,
   "metadata": {},
   "outputs": [],
   "source": [
    "def G6_Calculate_Uniqueness(Board_x, Board_y):\n",
    "    \"\"\"\n",
    "    Calculates the uniqueness between two boards based on their response bits.\n",
    "\n",
    "    Parameters:\n",
    "    Board_x (list): List of response bits for board X.\n",
    "    Board_y (list): List of response bits for board Y.\n",
    "\n",
    "    Returns:\n",
    "    float: The uniqueness percentage.\n",
    "    \"\"\"\n",
    "    hamming_distance = sum(x != y for x, y in zip(Board_x, Board_y))\n",
    "    uniqueness = (hamming_distance / len(Board_x)) * 100\n",
    "    return round(uniqueness, 2)"
   ]
  },
  {
   "cell_type": "markdown",
   "metadata": {},
   "source": [
    "2.4 reliabilityOfPUF(base_filename)\n",
    "Purpose: This function calculates the reliability of the PUF on a particular FPGA board by comparing multiple sets of response data.\n",
    "\n",
    "Parameters:\n",
    "\n",
    "base_filename: The base file name used to load the multiple sets of CRPs (e.g., Board3_10K_6_S).\n",
    "How it Works:\n",
    "\n",
    "The function loads 15 sets of responses, each from a separate file.\n",
    "For each response position across the 15 sets, the function checks which bit (0 or 1) is the majority.\n",
    "Reliability is calculated as the percentage of the majority bits that agree with each other across all 15 sets.\n",
    "The result is averaged across all response positions and rounded to two decimal places."
   ]
  },
  {
   "cell_type": "code",
   "execution_count": 5,
   "metadata": {},
   "outputs": [],
   "source": [
    "def G6_Reliability_Of_PUF(base_filename):\n",
    "    \"\"\"\n",
    "    Calculates the reliability of the PUF for a particular board by comparing multiple sets of responses.\n",
    "\n",
    "    Parameters:\n",
    "    base_filename (str): The base filename for the multiple sets of CRPs.\n",
    "\n",
    "    Returns:\n",
    "    float: The reliability percentage.\n",
    "    \"\"\"\n",
    "    all_responses = []\n",
    "    for i in range(1, 16):\n",
    "        filename = f\"{base_filename}{i}.txt\"\n",
    "        responses = []\n",
    "        G6_Challenge_Response_list(responses, filename)\n",
    "        all_responses.append(responses)\n",
    "    \n",
    "    reliability = 0\n",
    "    for i in range(10000):  # Assumes 10K CRPs\n",
    "        bits = [int(all_responses[j][i]) for j in range(15)]\n",
    "        majority_vote = 1 if bits.count(1) > bits.count(0) else 0\n",
    "        agreement_ratio = (bits.count(majority_vote) / 15) * 100\n",
    "        reliability += agreement_ratio\n",
    "    \n",
    "    return round(reliability / 10000, 2)"
   ]
  },
  {
   "cell_type": "markdown",
   "metadata": {},
   "source": [
    "3. Loading Response Data\n",
    "The Make_Challenge_Response_list function is called to load the response data from the files for Board 1, Board 2, and Board 3."
   ]
  },
  {
   "cell_type": "code",
   "execution_count": 6,
   "metadata": {},
   "outputs": [],
   "source": [
    "# Load responses from files\n",
    "G6_Challenge_Response_list(G6_Board1_Responses, Board1_Data_File_Path)\n",
    "G6_Challenge_Response_list(G6_Board2_Responses, Board2_Data_File_Path)\n",
    "\n",
    "# Load Board 3 responses from multiple files\n",
    "for i in range(1, 16):\n",
    "     G6_Challenge_Response_list(G6_Board3_Responses, f\"{Board3_Data_File_Name_Initial}{i}.txt\")"
   ]
  },
  {
   "cell_type": "markdown",
   "metadata": {},
   "source": [
    "4. Calculating Metrics"
   ]
  },
  {
   "cell_type": "markdown",
   "metadata": {},
   "source": [
    "4.1 Reliability Calculation\n",
    "The reliabilityOfPUF function is used to calculate the reliability of Board 3 based on the 15 sets of response data."
   ]
  },
  {
   "cell_type": "code",
   "execution_count": 7,
   "metadata": {},
   "outputs": [],
   "source": [
    "# Reliability Calculation\n",
    "board3_reliability = G6_Reliability_Of_PUF(Board3_Data_File_Name_Initial)"
   ]
  },
  {
   "cell_type": "markdown",
   "metadata": {},
   "source": [
    "4.2 Uniformity Calculation\n",
    "The calculate_uniformity function is called for each of the three boards to compute their respective uniformities."
   ]
  },
  {
   "cell_type": "code",
   "execution_count": 8,
   "metadata": {},
   "outputs": [],
   "source": [
    "# Uniformity Calculations\n",
    "board1_uniformity = G6_Calculate_Uniformity(G6_Board1_Responses)\n",
    "board2_uniformity = G6_Calculate_Uniformity(G6_Board2_Responses)\n",
    "board3_uniformity = G6_Calculate_Uniformity(G6_Board3_Responses)"
   ]
  },
  {
   "cell_type": "markdown",
   "metadata": {},
   "source": [
    "4.3 Uniqueness Calculation\n",
    "The responses are first converted into integer arrays.\n",
    "The calculate_uniqueness function is used to calculate the uniqueness between each pair of boards:\n",
    "Board 1 and Board 2\n",
    "Board 2 and Board 3\n",
    "Board 1 and Board 3"
   ]
  },
  {
   "cell_type": "code",
   "execution_count": 9,
   "metadata": {},
   "outputs": [],
   "source": [
    "# Convert responses to integer arrays for uniqueness calculation\n",
    "Board1_array = [int(row) for row in G6_Board1_Responses]\n",
    "Board2_array = [int(row) for row in G6_Board2_Responses]\n",
    "Board3_array = [int(row) for row in G6_Board3_Responses]"
   ]
  },
  {
   "cell_type": "code",
   "execution_count": 10,
   "metadata": {},
   "outputs": [],
   "source": [
    "# Uniqueness Calculations\n",
    "uniqueness_Board1_Board2 = G6_Calculate_Uniqueness(Board1_array, Board2_array)\n",
    "uniqueness_Board2_Board3 = G6_Calculate_Uniqueness(Board2_array, Board3_array)\n",
    "uniqueness_Board1_Board3 = G6_Calculate_Uniqueness(Board1_array, Board3_array)"
   ]
  },
  {
   "cell_type": "markdown",
   "metadata": {},
   "source": [
    "Displaying Results\n",
    "The calculated metrics (reliability, uniformity, and uniqueness) are printed out, providing insights into the PUF's performance across different boards."
   ]
  },
  {
   "cell_type": "code",
   "execution_count": 11,
   "metadata": {},
   "outputs": [
    {
     "name": "stdout",
     "output_type": "stream",
     "text": [
      "********************  Group 6 OutPut ********************\n",
      "The Reliability for Board 3 is: 99.75%\n",
      "The Uniformity for Board 1 is: 25.51%\n",
      "The Uniformity for Board 2 is: 27.54%\n",
      "The Uniformity for Board 3 is: 21.45%\n",
      "The Uniqueness between Board 1 and Board 2 is: 3.67%\n",
      "The Uniqueness between Board 2 and Board 3 is: 6.93%\n",
      "The Uniqueness between Board 1 and Board 3 is: 4.32%\n",
      "\n",
      "********************  End  ********************\n"
     ]
    }
   ],
   "source": [
    "# Display results\n",
    "results = {\n",
    "    \"Reliability for Board 3\": f\"{board3_reliability}%\",\n",
    "    \"Uniformity for Board 1\": f\"{board1_uniformity}%\",\n",
    "    \"Uniformity for Board 2\": f\"{board2_uniformity}%\",\n",
    "    \"Uniformity for Board 3\": f\"{board3_uniformity}%\",\n",
    "    \"Uniqueness between Board 1 and Board 2\": f\"{uniqueness_Board1_Board2}%\",\n",
    "    \"Uniqueness between Board 2 and Board 3\": f\"{uniqueness_Board2_Board3}%\",\n",
    "    \"Uniqueness between Board 1 and Board 3\": f\"{uniqueness_Board1_Board3}%\"\n",
    "}\n",
    "\n",
    "# Display the calculated results\n",
    "print(\"********************  Group 6 OutPut ********************\")\n",
    "for key, value in results.items():\n",
    "    print(f\"The {key} is: {value}\")\n",
    "print(\"\")\n",
    "print(\"********************  End  ********************\")"
   ]
  },
  {
   "cell_type": "markdown",
   "metadata": {},
   "source": [
    "# Visualization Section"
   ]
  },
  {
   "cell_type": "code",
   "execution_count": 12,
   "metadata": {},
   "outputs": [
    {
     "data": {
      "image/png": "[encoded data removed]",
      "text/plain": [
       "<Figure size 640x480 with 1 Axes>"
      ]
     },
     "metadata": {},
     "output_type": "display_data"
    }
   ],
   "source": [
    "\n",
    "# 1. Uniformity Bar Chart with different colors\n",
    "\n",
    "uniformity_data = pd.DataFrame({\n",
    "    'Boards': ['Board 1', 'Board 2', 'Board 3'],\n",
    "    'Uniformity (%)': [board1_uniformity, board2_uniformity, board3_uniformity]\n",
    "})\n",
    "\n",
    "# Create the barplot with updated parameters\n",
    "ax = sns.barplot(x='Boards', y='Uniformity (%)', data=uniformity_data, hue='Boards', palette='husl', legend=False)\n",
    "\n",
    "# Add value annotations on top of each bar\n",
    "for p in ax.patches:\n",
    "    ax.annotate(f'{p.get_height()}', \n",
    "                (p.get_x() + p.get_width() / 2., p.get_height()), \n",
    "                ha='center', va='center', \n",
    "                xytext=(0, 3), \n",
    "                textcoords='offset points')\n",
    "# Add a title and show the plot\n",
    "plt.title('Uniformity of Responses for Each Board')\n",
    "plt.show()"
   ]
  },
  {
   "cell_type": "code",
   "execution_count": 13,
   "metadata": {},
   "outputs": [
    {
     "data": {
      "image/png": "[encoded data removed]",
      "text/plain": [
       "<Figure size 640x480 with 1 Axes>"
      ]
     },
     "metadata": {},
     "output_type": "display_data"
    }
   ],
   "source": [
    "# 2. Uniqueness Bar Chart with different colors\n",
    "uniqueness_data = pd.DataFrame({\n",
    "    'Comparison': ['Board 1 vs. Board 2', 'Board 2 vs. Board 3', 'Board 1 vs. Board 3'],\n",
    "    'Uniqueness (%)': [uniqueness_Board1_Board2, uniqueness_Board2_Board3, uniqueness_Board1_Board3]\n",
    "})\n",
    "\n",
    "ax =sns.barplot(x='Comparison', y='Uniqueness (%)', data=uniqueness_data, hue='Comparison', palette='coolwarm', legend=False)\n",
    "\n",
    "# Add value annotations on top of each bar\n",
    "for p in ax.patches:\n",
    "    ax.annotate(f'{p.get_height()}', \n",
    "                (p.get_x() + p.get_width() / 2., p.get_height()), \n",
    "                ha='center', va='center', \n",
    "                xytext=(0, 3), \n",
    "                textcoords='offset points')\n",
    "    \n",
    "plt.title('Uniqueness Between Board Pairs')\n",
    "plt.show()"
   ]
  }
 ],
 "metadata": {
  "kernelspec": {
   "display_name": "Python 3",
   "language": "python",
   "name": "python3"
  },
  "language_info": {
   "codemirror_mode": {
    "name": "ipython",
    "version": 3
   },
   "file_extension": ".py",
   "mimetype": "text/x-python",
   "name": "python",
   "nbconvert_exporter": "python",
   "pygments_lexer": "ipython3",
   "version": "3.11.2"
  }
 },
 "nbformat": 4,
 "nbformat_minor": 2
}
