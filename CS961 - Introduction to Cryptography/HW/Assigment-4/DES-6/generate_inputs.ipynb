{
 "cells": [
  {
   "cell_type": "markdown",
   "metadata": {},
   "source": [
    "## Generating 2 thousand plaintexts"
   ]
  },
  {
   "cell_type": "code",
   "execution_count": 1,
   "metadata": {},
   "outputs": [],
   "source": [
    "import numpy as np\n",
    "import random"
   ]
  },
  {
   "cell_type": "code",
   "execution_count": 2,
   "metadata": {},
   "outputs": [],
   "source": [
    "dictionary = {\n",
    " '0000': 'f',\n",
    " '0001': 'g',\n",
    " '0010': 'h',\n",
    " '0011': 'i',\n",
    " '0100': 'j',\n",
    " '0101': 'k',\n",
    " '0110': 'l',\n",
    " '0111': 'm',\n",
    " '1000': 'n',\n",
    " '1001': 'o',\n",
    " '1010': 'p',\n",
    " '1011': 'q',\n",
    " '1100': 'r',\n",
    " '1101': 's',\n",
    " '1110': 't',\n",
    " '1111': 'u'\n",
    "}\n",
    "rev_dict=mapping = {\n",
    "           'f' : '0000',\n",
    "           'g' : '0001',\n",
    "           'h' : '0010',\n",
    "           'i' : '0011',\n",
    "           'j' : '0100',\n",
    "           'k' : '0101',\n",
    "           'l' : '0110',\n",
    "           'm' : '0111',\n",
    "           'n' : '1000',\n",
    "           'o' : '1001',\n",
    "           'p' : '1010',\n",
    "           'q' : '1011',\n",
    "           'r' : '1100',\n",
    "           's' : '1101',\n",
    "           't' : '1110',\n",
    "           'u' : '1111'\n",
    "           }"
   ]
  },
  {
   "cell_type": "code",
   "execution_count": 3,
   "metadata": {},
   "outputs": [],
   "source": [
    "# XOR value between pairs of plaintexts is 000080100000400\n",
    "XOR_value = list((bin(0x0000801000004000))[2:].zfill(64))\n",
    "XOR_value = [int(x) for x in XOR_value]\n",
    "binary_plaintexts = []\n",
    "for i in range(1000):\n",
    "    tmp=[]\n",
    "    for j in range(16):\n",
    "        x= random.choice(['f','g','h','i','j','k','l','m','n','o','p','q','r','s','t','u'])\n",
    "        tmp.append(x)\n",
    "    inp1=''\n",
    "    for y in tmp:\n",
    "        inp1+=rev_dict[y]\n",
    "    inp1 = [int(inp1[j]) for j in range(len(inp1))]\n",
    "#     if index==4:\n",
    "#         print(inp1)\n",
    "    #while(len(bin_val)!=64):\n",
    "        #bin_val.insert(0,0)\n",
    "    binary_plaintexts.append(inp1)\n",
    "    binary_plaintexts.append(list(np.bitwise_xor(inp1,XOR_value)))\n",
    "\n",
    "        "
   ]
  },
  {
   "cell_type": "code",
   "execution_count": 4,
   "metadata": {},
   "outputs": [],
   "source": [
    "def listToString(s):  \n",
    "    \n",
    "    s1 = [str(x) for x in s] \n",
    "    str1 = \"\" \n",
    "    \n",
    "    # return string   \n",
    "    return (str1.join(s1))\n",
    "inputs = []\n",
    "#print(len(binary_plaintexts))\n",
    "for i in range(len(binary_plaintexts)):\n",
    "    input=\"\"\n",
    "    for j in range(0,64,4):\n",
    "        temp1 = binary_plaintexts[i][j:j+4]\n",
    "        temp2 = listToString(temp1)\n",
    "        input+=dictionary[temp2]\n",
    "        #print(input)\n",
    "    inputs+=[input]\n",
    "#print(inputs[1])"
   ]
  },
  {
   "cell_type": "code",
   "execution_count": 5,
   "metadata": {},
   "outputs": [],
   "source": [
    "newfile = open(\"plaintexts1-MD-20240606.txt\",\"w\")\n",
    "for plaintext in inputs:\n",
    "    newfile.write(plaintext+\"\\n\")\n",
    "newfile.close()"
   ]
  },
  {
   "cell_type": "code",
   "execution_count": 6,
   "metadata": {},
   "outputs": [],
   "source": [
    "# XOR value between pairs of plaintexts is 0000 0000 0000 0000 0000 1000 0000 0001 0000 0000 0001 0000 0000 0000 0000 0000\n",
    "XOR_value = list((bin(0x0000080100100000))[2:].zfill(64))\n",
    "XOR_value = [int(x) for x in XOR_value]\n",
    "binary_plaintexts = []\n",
    "for i in range(1000):\n",
    "    tmp=[]\n",
    "    for j in range(16):\n",
    "        x= random.choice(['f','g','h','i','j','k','l','m','n','o','p','q','r','s','t','u'])\n",
    "        tmp.append(x)\n",
    "    inp1=''\n",
    "    for y in tmp:\n",
    "        inp1+=rev_dict[y]\n",
    "    inp1 = [int(inp1[j]) for j in range(len(inp1))]\n",
    "    #while(len(bin_val)!=64):\n",
    "        #bin_val.insert(0,0)\n",
    "    binary_plaintexts.append(inp1)\n",
    "    binary_plaintexts.append(list(np.bitwise_xor(inp1,XOR_value)))\n",
    "\n",
    "        "
   ]
  },
  {
   "cell_type": "code",
   "execution_count": 7,
   "metadata": {},
   "outputs": [],
   "source": [
    "def listToString(s):  \n",
    "    \n",
    "    s1 = [str(x) for x in s] \n",
    "    str1 = \"\" \n",
    "    \n",
    "    # return string   \n",
    "    return (str1.join(s1))\n",
    "inputs = []\n",
    "#print(len(binary_plaintexts))\n",
    "for i in range(len(binary_plaintexts)):\n",
    "    input=\"\"\n",
    "    for j in range(0,64,4):\n",
    "        temp1 = binary_plaintexts[i][j:j+4]\n",
    "        temp2 = listToString(temp1)\n",
    "        input+=dictionary[temp2]\n",
    "        #print(input)\n",
    "    inputs+=[input]\n",
    "#print(inputs[1])"
   ]
  },
  {
   "cell_type": "code",
   "execution_count": 8,
   "metadata": {},
   "outputs": [],
   "source": [
    "newfile = open(\"plaintexts2-MD-20240606.txt\",\"w\")\n",
    "for plaintext in inputs:\n",
    "    newfile.write(plaintext+\"\\n\")\n",
    "newfile.close()"
   ]
  },
  {
   "cell_type": "code",
   "execution_count": null,
   "metadata": {},
   "outputs": [],
   "source": []
  },
  {
   "cell_type": "code",
   "execution_count": null,
   "metadata": {},
   "outputs": [],
   "source": []
  }
 ],
 "metadata": {
  "kernelspec": {
   "display_name": "Python 3 (ipykernel)",
   "language": "python",
   "name": "python3"
  },
  "language_info": {
   "codemirror_mode": {
    "name": "ipython",
    "version": 3
   },
   "file_extension": ".py",
   "mimetype": "text/x-python",
   "name": "python",
   "nbconvert_exporter": "python",
   "pygments_lexer": "ipython3",
   "version": "3.11.4"
  }
 },
 "nbformat": 4,
 "nbformat_minor": 4
}
