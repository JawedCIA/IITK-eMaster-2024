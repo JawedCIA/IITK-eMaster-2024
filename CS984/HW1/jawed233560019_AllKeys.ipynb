{
 "cells": [
  {
   "cell_type": "code",
   "execution_count": 17,
   "id": "cc2f1f3e",
   "metadata": {},
   "outputs": [
    {
     "name": "stdout",
     "output_type": "stream",
     "text": [
      "[['Plaintext' 'Ciphertext' 'Traces' ... nan nan nan]\n",
      " ['0' '7df76b0c1ab899b33e42f047b91b546f' '366' ... 310.0 305.0 261.0]\n",
      " ['7df76b0c1ab899b33e42f047b91b546f' 'a9dcf5aa138056e259e7be57958e72d8'\n",
      "  '389' ... 264.0 285.0 292.0]\n",
      " ...\n",
      " ['2fe99af02c983246ff228ced17239b24' '96acd213cd6ac463b3be6859d725f6c6'\n",
      "  '367' ... 290.0 258.0 268.0]\n",
      " ['96acd213cd6ac463b3be6859d725f6c6' '80c87c1dc35a8b945f9e9f6d5f1db1d1'\n",
      "  '372' ... 323.0 296.0 294.0]\n",
      " ['80c87c1dc35a8b945f9e9f6d5f1db1d1' 'e35457b42cc2c384f5b40dc80312cd71'\n",
      "  '387' ... 278.0 285.0 283.0]]\n"
     ]
    }
   ],
   "source": [
    "import pandas as pd\n",
    "import numpy as np\n",
    "import binascii\n",
    "from scipy.stats import pearsonr\n",
    "from numpy import unravel_index\n",
    "file_path = './traces_AES.csv'\n",
    "\n",
    "# Load the CSV file with low_memory set to False\n",
    "df = pd.read_csv(file_path, header=None, low_memory=False)\n",
    "df1=df.to_numpy()\n",
    "print (df1)\n",
    "#keyByteToFind=11"
   ]
  },
  {
   "cell_type": "code",
   "execution_count": 18,
   "id": "e033119b",
   "metadata": {},
   "outputs": [
    {
     "data": {
      "text/plain": [
       "array([['366', 237.0, 206.0, ..., 310.0, 305.0, 261.0],\n",
       "       ['389', 252.0, 208.0, ..., 264.0, 285.0, 292.0],\n",
       "       ['376', 255.0, 213.0, ..., 301.0, 278.0, 276.0],\n",
       "       ...,\n",
       "       ['367', 296.0, 211.0, ..., 290.0, 258.0, 268.0],\n",
       "       ['372', 300.0, 213.0, ..., 323.0, 296.0, 294.0],\n",
       "       ['387', 294.0, 205.0, ..., 278.0, 285.0, 283.0]], dtype=object)"
      ]
     },
     "execution_count": 18,
     "metadata": {},
     "output_type": "execute_result"
    }
   ],
   "source": [
    "# Extract columns\n",
    "#plaintexts = df.iloc[:, 0].values\n",
    "#ciphertexts = df.iloc[:, 1].values\n",
    "traces = df.iloc[1:, 2:].values  # Power trace data\n",
    "\n",
    "#traces=df1[1:, 2:2000]\n",
    "traces"
   ]
  },
  {
   "cell_type": "code",
   "execution_count": 19,
   "id": "1a67f6d6",
   "metadata": {},
   "outputs": [],
   "source": [
    "def normalize_plaintext(plaintext):\n",
    "    # Normalize '0' to a full 16-byte (32-character) zero string\n",
    "    if plaintext == '0':\n",
    "        return '00000000000000000000000000000000'\n",
    "    else:\n",
    "        return plaintext\n",
    "    \n"
   ]
  },
  {
   "cell_type": "code",
   "execution_count": 20,
   "id": "5372743c",
   "metadata": {},
   "outputs": [
    {
     "data": {
      "text/plain": [
       "array(['00000000000000000000000000000000',\n",
       "       '7df76b0c1ab899b33e42f047b91b546f',\n",
       "       'a9dcf5aa138056e259e7be57958e72d8', ...,\n",
       "       '2fe99af02c983246ff228ced17239b24',\n",
       "       '96acd213cd6ac463b3be6859d725f6c6',\n",
       "       '80c87c1dc35a8b945f9e9f6d5f1db1d1'], dtype=object)"
      ]
     },
     "execution_count": 20,
     "metadata": {},
     "output_type": "execute_result"
    }
   ],
   "source": [
    "#Getting the plaintext part\n",
    "#plaintexts=df1[:,0]\n",
    "plaintexts = df.iloc[1:, 0].values\n",
    "# Convert plaintexts to byte arrays\n",
    "plaintexts_norm =  np.array([normalize_plaintext(pt) for pt in plaintexts],dtype=object)\n",
    "plaintexts_norm"
   ]
  },
  {
   "cell_type": "code",
   "execution_count": 21,
   "id": "14370d67",
   "metadata": {},
   "outputs": [
    {
     "data": {
      "text/plain": [
       "array(['7df76b0c1ab899b33e42f047b91b546f',\n",
       "       'a9dcf5aa138056e259e7be57958e72d8',\n",
       "       '626caecce6b25a25524cb32b7ec1374e', ...,\n",
       "       '96acd213cd6ac463b3be6859d725f6c6',\n",
       "       '80c87c1dc35a8b945f9e9f6d5f1db1d1',\n",
       "       'e35457b42cc2c384f5b40dc80312cd71'], dtype=object)"
      ]
     },
     "execution_count": 21,
     "metadata": {},
     "output_type": "execute_result"
    }
   ],
   "source": [
    "#Getting Ciphertext part\n",
    "#ciphertexts=df1[:,1]\n",
    "ciphertexts = df.iloc[1:, 1].values\n",
    "ciphertexts_norm= np.array([normalize_plaintext(pt) for pt in ciphertexts],dtype=object)\n",
    "ciphertexts_norm"
   ]
  },
  {
   "cell_type": "code",
   "execution_count": 22,
   "id": "23b5c66a",
   "metadata": {},
   "outputs": [],
   "source": [
    "InvSbox = (\n",
    "    0x52, 0x09, 0x6A, 0xD5, 0x30, 0x36, 0xA5, 0x38, 0xBF, 0x40, 0xA3, 0x9E, 0x81, 0xF3, 0xD7, 0xFB,\n",
    "    0x7C, 0xE3, 0x39, 0x82, 0x9B, 0x2F, 0xFF, 0x87, 0x34, 0x8E, 0x43, 0x44, 0xC4, 0xDE, 0xE9, 0xCB,\n",
    "    0x54, 0x7B, 0x94, 0x32, 0xA6, 0xC2, 0x23, 0x3D, 0xEE, 0x4C, 0x95, 0x0B, 0x42, 0xFA, 0xC3, 0x4E,\n",
    "    0x08, 0x2E, 0xA1, 0x66, 0x28, 0xD9, 0x24, 0xB2, 0x76, 0x5B, 0xA2, 0x49, 0x6D, 0x8B, 0xD1, 0x25,\n",
    "    0x72, 0xF8, 0xF6, 0x64, 0x86, 0x68, 0x98, 0x16, 0xD4, 0xA4, 0x5C, 0xCC, 0x5D, 0x65, 0xB6, 0x92,\n",
    "    0x6C, 0x70, 0x48, 0x50, 0xFD, 0xED, 0xB9, 0xDA, 0x5E, 0x15, 0x46, 0x57, 0xA7, 0x8D, 0x9D, 0x84,\n",
    "    0x90, 0xD8, 0xAB, 0x00, 0x8C, 0xBC, 0xD3, 0x0A, 0xF7, 0xE4, 0x58, 0x05, 0xB8, 0xB3, 0x45, 0x06,\n",
    "    0xD0, 0x2C, 0x1E, 0x8F, 0xCA, 0x3F, 0x0F, 0x02, 0xC1, 0xAF, 0xBD, 0x03, 0x01, 0x13, 0x8A, 0x6B,\n",
    "    0x3A, 0x91, 0x11, 0x41, 0x4F, 0x67, 0xDC, 0xEA, 0x97, 0xF2, 0xCF, 0xCE, 0xF0, 0xB4, 0xE6, 0x73,\n",
    "    0x96, 0xAC, 0x74, 0x22, 0xE7, 0xAD, 0x35, 0x85, 0xE2, 0xF9, 0x37, 0xE8, 0x1C, 0x75, 0xDF, 0x6E,\n",
    "    0x47, 0xF1, 0x1A, 0x71, 0x1D, 0x29, 0xC5, 0x89, 0x6F, 0xB7, 0x62, 0x0E, 0xAA, 0x18, 0xBE, 0x1B,\n",
    "    0xFC, 0x56, 0x3E, 0x4B, 0xC6, 0xD2, 0x79, 0x20, 0x9A, 0xDB, 0xC0, 0xFE, 0x78, 0xCD, 0x5A, 0xF4,\n",
    "    0x1F, 0xDD, 0xA8, 0x33, 0x88, 0x07, 0xC7, 0x31, 0xB1, 0x12, 0x10, 0x59, 0x27, 0x80, 0xEC, 0x5F,\n",
    "    0x60, 0x51, 0x7F, 0xA9, 0x19, 0xB5, 0x4A, 0x0D, 0x2D, 0xE5, 0x7A, 0x9F, 0x93, 0xC9, 0x9C, 0xEF,\n",
    "    0xA0, 0xE0, 0x3B, 0x4D, 0xAE, 0x2A, 0xF5, 0xB0, 0xC8, 0xEB, 0xBB, 0x3C, 0x83, 0x53, 0x99, 0x61,\n",
    "    0x17, 0x2B, 0x04, 0x7E, 0xBA, 0x77, 0xD6, 0x26, 0xE1, 0x69, 0x14, 0x63, 0x55, 0x21, 0x0C, 0x7D,\n",
    ")\n"
   ]
  },
  {
   "cell_type": "code",
   "execution_count": 23,
   "id": "c3f40b43",
   "metadata": {},
   "outputs": [
    {
     "data": {
      "text/plain": [
       "(30000, 150)"
      ]
     },
     "execution_count": 23,
     "metadata": {},
     "output_type": "execute_result"
    }
   ],
   "source": [
    "#np.shape(ciphertexts)[0]\n",
    "num_traces,num_points= np.shape(traces)\n",
    "num_traces,num_points"
   ]
  },
  {
   "cell_type": "code",
   "execution_count": 24,
   "id": "669921ec",
   "metadata": {},
   "outputs": [],
   "source": [
    "cipher9=np.empty([num_traces,256])"
   ]
  },
  {
   "cell_type": "code",
   "execution_count": 9,
   "id": "faedbafb",
   "metadata": {},
   "outputs": [],
   "source": [
    "#For Hamming weight\n",
    "def number_of_ones(n):\n",
    "    c = 0\n",
    "    while n:\n",
    "        c += n%2\n",
    "        n /= 2\n",
    "    return c"
   ]
  },
  {
   "cell_type": "code",
   "execution_count": 25,
   "id": "706b835e",
   "metadata": {},
   "outputs": [
    {
     "name": "stdout",
     "output_type": "stream",
     "text": [
      "The correct 11 key byte is 200 , hex value = 0xc8\n"
     ]
    }
   ],
   "source": [
    "# Define necessary arrays\n",
    "hypothetical_model = np.empty([num_traces, 256], dtype=np.float64)\n",
    "corr_matrix = np.empty([256, num_points], dtype=np.float64)\n",
    "\n",
    "def number_of_ones(x):\n",
    "    return bin(x).count('1')\n",
    "# Storing the dictionary in a variable\n",
    "key_s_combination = {0: 0, 5: 1, 10: 2, 15: 3, 4: 4, 9: 5, 14: 6, 3: 7, 8: 8, 13: 9, \n",
    "           2: 10, 7: 11, 12: 12, 1: 13, 6: 14, 11: 15}\n",
    "# Looping through the dictionary and reading the values one by one\n",
    "for svalue, key in key_s_combination.items():\n",
    "    #print(f\"Key: {key}, Value: {value}\")\n",
    "    # Perform CPA computations\n",
    "        \n",
    "            for j in range(num_traces):\n",
    "                for k in range(256):\n",
    "                    try:\n",
    "                        # Ensure we're working with valid hexadecimal strings\n",
    "                        #c11 = ciphertexts_norm[j][22:24] #for C11\n",
    "                        c11 = ciphertexts_norm[j][key*2:(key*2)+2] #for C11\n",
    "                        #c11 = ciphertexts_norm[j][18:20]\n",
    "                        xorc11k11 = int(c11, 16) ^ k\n",
    "\n",
    "                        cipher9 = InvSbox[xorc11k11]\n",
    "                        \n",
    "                        #x1 = ciphertexts_norm[j][14:16] # need to target C7\n",
    "                        x1 = ciphertexts_norm[j][svalue*2:(svalue*2)+2] #for C11\n",
    "                        #x1 = ciphertexts_norm[j][10:12]\n",
    "                        x2 = int(x1, 16)\n",
    "                        xor1 = x2 ^ int(cipher9)\n",
    "                        hamming_dist = number_of_ones(xor1)\n",
    "                        hypothetical_model[j, k] = hamming_dist\n",
    "                    except ValueError as e:\n",
    "                        print(f\"Error processing ciphertext '{ciphertexts_norm[j]}': {e}\")\n",
    "                        continue\n",
    "\n",
    "            # Convert traces to DataFrame\n",
    "            tr = pd.DataFrame(traces, dtype=np.float64)\n",
    "            hy = pd.DataFrame(hypothetical_model, dtype=np.float64)\n",
    "\n",
    "            # Calculate correlation matrix\n",
    "            for i in range(256):\n",
    "                for j in range(num_points):\n",
    "                    c1 = hy.iloc[:, i].values\n",
    "                    c2 = tr.iloc[:, j].values\n",
    "                    try:\n",
    "                        corr, _ = pearsonr(c1, c2)\n",
    "                        corr_matrix[i, j] = abs(corr)\n",
    "                    except ValueError as e:\n",
    "                        print(f\"Error calculating correlation for byte {i}, point {j}: {e}\")\n",
    "                        corr_matrix[i, j] = 0  # Default value if error occurs\n",
    "\n",
    "            # Find the best correlation           \n",
    "            x, y = unravel_index(corr_matrix.argmax(), corr_matrix.shape)\n",
    "\n",
    "            #print(f\"Best key byte guess position: {x}\")\n",
    "            #print(f\"Best trace point position: {y}\")\n",
    "            print(f\"The correct {key} key byte is\",x,\", hex value =\",hex(x))"
   ]
  },
  {
   "cell_type": "code",
   "execution_count": null,
   "id": "350f5ac2",
   "metadata": {},
   "outputs": [],
   "source": []
  }
 ],
 "metadata": {
  "kernelspec": {
   "display_name": "Python 3 (ipykernel)",
   "language": "python",
   "name": "python3"
  },
  "language_info": {
   "codemirror_mode": {
    "name": "ipython",
    "version": 3
   },
   "file_extension": ".py",
   "mimetype": "text/x-python",
   "name": "python",
   "nbconvert_exporter": "python",
   "pygments_lexer": "ipython3",
   "version": "3.11.2"
  }
 },
 "nbformat": 4,
 "nbformat_minor": 5
}
